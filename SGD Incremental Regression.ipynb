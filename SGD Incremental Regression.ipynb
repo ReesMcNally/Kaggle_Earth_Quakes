{
 "cells": [
  {
   "cell_type": "code",
   "execution_count": 1,
   "metadata": {},
   "outputs": [],
   "source": [
    "import numpy as np \n",
    "import pandas as pd\n",
    "from os import listdir\n",
    "import matplotlib.pyplot as plt\n",
    "%matplotlib inline"
   ]
  },
  {
   "cell_type": "code",
   "execution_count": 5,
   "metadata": {},
   "outputs": [],
   "source": [
    "# Training set is 6E8 points long\n",
    "# Test Segments are 1.5E5 points long\n",
    "\n",
    "# Dumb first thing to try, would be cut data set into a bunch of data sets 1.5E5 long.\n",
    "# With maximal overlap, you could make ~6E8 of these datasets, for a total of 780 terabytes.\n",
    "# With no overlap you can make ~4000 of these data sets for a total of 5.2 gigabytes.\n",
    "# Each 1.5E5 long training set, with the time to fail (only the final point) and the full signal, \n",
    "# is ~1.3 mB so realistically several thousand is doable, but maybe 25,000 is the max. \n",
    "\n",
    "# We can potentially decimate the signal in the time domain to get maybe a factor of 2-10, but \n",
    "# that would require some justification. We can also extend the data set by adding random noise\n",
    "# to the training data to generate more, but having to little data doesn't seem to be a problem\n",
    "\n",
    "proj_dir=\"C:\\\\Users\\Rees\\\\Documents\\\\Python Scripts\\\\Kaggle\\\\Earth Quake Guessing\\\\all (1)\\\\\"\n",
    "learning_dir=\"no_overlap_cuts\\\\\"\n",
    "learnFiles=listdir(proj_dir+learning_dir)\n"
   ]
  },
  {
   "cell_type": "code",
   "execution_count": null,
   "metadata": {},
   "outputs": [],
   "source": []
  },
  {
   "cell_type": "code",
   "execution_count": null,
   "metadata": {},
   "outputs": [],
   "source": []
  }
 ],
 "metadata": {
  "kernelspec": {
   "display_name": "Python 3",
   "language": "python",
   "name": "python3"
  },
  "language_info": {
   "codemirror_mode": {
    "name": "ipython",
    "version": 3
   },
   "file_extension": ".py",
   "mimetype": "text/x-python",
   "name": "python",
   "nbconvert_exporter": "python",
   "pygments_lexer": "ipython3",
   "version": "3.7.0"
  }
 },
 "nbformat": 4,
 "nbformat_minor": 2
}
