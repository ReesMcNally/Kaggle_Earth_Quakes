{
 "cells": [
  {
   "cell_type": "code",
   "execution_count": 3,
   "metadata": {},
   "outputs": [],
   "source": [
    "import numpy as np \n",
    "import pandas as pd\n",
    "from os import listdir\n",
    "import matplotlib.pyplot as plt\n",
    "%matplotlib inline"
   ]
  },
  {
   "cell_type": "code",
   "execution_count": 8,
   "metadata": {
    "scrolled": true
   },
   "outputs": [],
   "source": [
    "# This block takes the data, imports a chunk of it, and locates the index of each earthquake. \n",
    "# This is done by taking the points where the time to earth quake increases, which means the time \n",
    "#to earthquake has been reset overall, it finds only 17 quakes. This was validated, using the \n",
    "# first few sections of the data set to make sure the chunk structure works.\n",
    "\n",
    "# proj_dir=\"C:\\\\Users\\Rees\\\\Documents\\\\Python Scripts\\\\Kaggle\\\\Earth Quake Guessing\\\\all (1)\\\\\"\n",
    "# events=np.array([0])\n",
    "# j=0\n",
    "# csize=10**7\n",
    "\n",
    "# for chunk in pd.read_csv(proj_dir+\"train.csv\",chunksize=csize):\n",
    "#     holder=np.argwhere(np.diff(chunk.time_to_failure.values)>0)\n",
    "#     if np.size(holder)>0:\n",
    "#         events=np.append(events,holder+j*csize)\n",
    "#     j=j+1\n",
    "\n",
    "\n",
    "# np.save(proj_dir+\"locations\",events)"
   ]
  },
  {
   "cell_type": "code",
   "execution_count": 5,
   "metadata": {},
   "outputs": [],
   "source": [
    "# proj_dir=\"C:\\\\Users\\Rees\\\\Documents\\\\Python Scripts\\\\Kaggle\\\\Earth Quake Guessing\\\\all (1)\\\\\"\n",
    "# events=np.load(proj_dir+\"locations.npy\")"
   ]
  },
  {
   "cell_type": "code",
   "execution_count": 9,
   "metadata": {},
   "outputs": [],
   "source": [
    "# Training set is 6E8 points long\n",
    "# Test Segments are 1.5E5 points long\n",
    "\n",
    "# Dumb first thing to try, would be cut data set into a bunch of data sets 1.5E5 long.\n",
    "# With maximal overlap, you could make ~6E8 of these datasets, for a total of 780 terabytes.\n",
    "# With no overlap you can make ~4000 of these data sets for a total of 5.2 gigabytes.\n",
    "# Each 1.5E5 long training set, with the time to fail (only the final point) and the full signal, \n",
    "# is ~1.3 mB so realistically several thousand is doable, but maybe 25,000 is the max. \n",
    "\n",
    "# We can potentially decimate the signal in the time domain to get maybe a factor of 2-10, but \n",
    "# that would require some justification. We can also extend the data set by adding random noise\n",
    "# to the training data to generate more, but having to little data doesn't seem to be a problem\n",
    "\n",
    "proj_dir=\"C:\\\\Users\\Rees\\\\Documents\\\\Python Scripts\\\\Kaggle\\\\Earth Quake Guessing\\\\all (1)\\\\\"\n",
    "j=0\n",
    "csize=1.5E5\n",
    "\n",
    "for chunk in pd.read_csv(proj_dir+\"train.csv\",chunksize=csize):\n",
    "    holder=[[chunk.time_to_failure.values[-1]],chunk.acoustic_data.values]\n",
    "    jump=np.argwhere(np.diff(chunk.time_to_failure.values)>0)\n",
    "    if np.size(jump)==0:\n",
    "        np.save(proj_dir+\"no_overlap_cuts\\\\\"+str(j),holder)\n",
    "        j=j+1\n",
    "\n"
   ]
  },
  {
   "cell_type": "code",
   "execution_count": 6,
   "metadata": {},
   "outputs": [
    {
     "data": {
      "text/plain": [
       "1.4307971859"
      ]
     },
     "execution_count": 6,
     "metadata": {},
     "output_type": "execute_result"
    }
   ],
   "source": []
  },
  {
   "cell_type": "code",
   "execution_count": null,
   "metadata": {},
   "outputs": [],
   "source": []
  }
 ],
 "metadata": {
  "kernelspec": {
   "display_name": "Python 3",
   "language": "python",
   "name": "python3"
  },
  "language_info": {
   "codemirror_mode": {
    "name": "ipython",
    "version": 3
   },
   "file_extension": ".py",
   "mimetype": "text/x-python",
   "name": "python",
   "nbconvert_exporter": "python",
   "pygments_lexer": "ipython3",
   "version": "3.7.0"
  }
 },
 "nbformat": 4,
 "nbformat_minor": 2
}
